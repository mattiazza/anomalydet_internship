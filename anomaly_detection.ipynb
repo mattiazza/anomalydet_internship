{
 "cells": [
  {
   "cell_type": "markdown",
   "id": "19bccee4",
   "metadata": {},
   "source": [
    "# <span style=\"display:block; text-align:center\">Anomaly Detection Project</span>"
   ]
  },
  {
   "cell_type": "code",
   "execution_count": null,
   "id": "6032de29",
   "metadata": {
    "vscode": {
     "languageId": "plaintext"
    }
   },
   "outputs": [],
   "source": [
    "%load_ext autoreloa\n",
    "%autoreload 2"
   ]
  },
  {
   "cell_type": "code",
   "execution_count": null,
   "id": "3a0197dd",
   "metadata": {
    "vscode": {
     "languageId": "plaintext"
    }
   },
   "outputs": [],
   "source": [
    "print(\"Hello from my internship!\")\n",
    "print(\"Excited to learn and contribute.\")"
   ]
  },
  {
   "cell_type": "code",
   "execution_count": null,
   "id": "67613381",
   "metadata": {
    "vscode": {
     "languageId": "plaintext"
    }
   },
   "outputs": [],
   "source": []
  }
 ],
 "metadata": {
  "language_info": {
   "name": "python"
  }
 },
 "nbformat": 4,
 "nbformat_minor": 5
}
